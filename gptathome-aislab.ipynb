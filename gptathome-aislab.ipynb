{
 "cells": [
  {
   "cell_type": "markdown",
   "metadata": {},
   "source": [
    "# gptathome - Build your own GPT at home\n",
    "\n",
    "> This is an fun practicing material for \"nanogpt - Build your own GPT at home\" presentation @ AIS Lab\n",
    "\n",
    "> Throughout this material, you will be able to train a GPT model that can \"write\" songs"
   ]
  },
  {
   "cell_type": "markdown",
   "metadata": {},
   "source": [
    "## Set up"
   ]
  },
  {
   "cell_type": "markdown",
   "metadata": {},
   "source": [
    "### Install dependencies"
   ]
  },
  {
   "cell_type": "code",
   "execution_count": null,
   "metadata": {},
   "outputs": [],
   "source": [
    "!pip install numpy transformers tiktoken"
   ]
  },
  {
   "cell_type": "markdown",
   "metadata": {},
   "source": [
    "### Clone the demo repo"
   ]
  },
  {
   "cell_type": "code",
   "execution_count": null,
   "metadata": {},
   "outputs": [],
   "source": [
    "!git clone https://github.com/princ3od/nanoGPT\n",
    "\n",
    "!cd nanoGPT"
   ]
  },
  {
   "cell_type": "markdown",
   "metadata": {},
   "source": [
    "## Prepare data"
   ]
  },
  {
   "cell_type": "markdown",
   "metadata": {},
   "source": [
    "### Overview\n",
    "- 56,650 songs (75MB, ~24M tokens)​\n",
    "\n",
    "\n",
    "<img src=\"https://github.com/princ3od/nanoGPT/blob/main/assets/data_overview.png?raw=true\" alt=\"Data overview\" width=\"700px\">\n"
   ]
  },
  {
   "cell_type": "markdown",
   "metadata": {},
   "source": [
    "### Download"
   ]
  },
  {
   "cell_type": "code",
   "execution_count": null,
   "metadata": {},
   "outputs": [],
   "source": [
    "!cd nanoGPT && python data/spotify/download.py"
   ]
  },
  {
   "cell_type": "markdown",
   "metadata": {},
   "source": [
    "### Process\n",
    "- Combine all song lyrics (text column) into one large text\n",
    "- Tokenize the large text using [tiktoken](https://github.com/openai/tiktoken)\n",
    "- Save tokenized data to file *train.bin*"
   ]
  },
  {
   "cell_type": "code",
   "execution_count": null,
   "metadata": {},
   "outputs": [],
   "source": [
    "!cd nanoGPT && python data/spotify/prepare.py"
   ]
  },
  {
   "cell_type": "markdown",
   "metadata": {},
   "source": [
    "### Ok, now our data is ready. Let's train our GPT model!"
   ]
  },
  {
   "cell_type": "markdown",
   "metadata": {},
   "source": [
    "## Train model"
   ]
  },
  {
   "cell_type": "code",
   "execution_count": null,
   "metadata": {},
   "outputs": [],
   "source": [
    "dataset = 'spotify'\n",
    "\n",
    "batch_size = 8\n",
    "block_size = 64\n",
    "\n",
    "n_layer = 4\n",
    "n_head = 4\n",
    "n_embd = 132\n",
    "\n",
    "iterations = 100\n",
    "\n",
    "!cd nanoGPT && python train.py --dataset=$dataset --block_size=$block_size --batch_size=$batch_size \\\n",
    "    --n_layer=$n_layer --n_head=$n_head --n_embd=$n_embd \\\n",
    "        --max_iters=$iterations --eval_interval=10 --compile=False #--device=mps\n",
    "\n",
    "# Add --device=cpu if you don't have a GPU, or --device=mps if you run on Macbook\n",
    "# Also turn off PyTorch 2.0 compile with `--compile=False`"
   ]
  },
  {
   "cell_type": "markdown",
   "metadata": {},
   "source": [
    "## Try model"
   ]
  },
  {
   "cell_type": "code",
   "execution_count": null,
   "metadata": {},
   "outputs": [],
   "source": [
    "num_samples = 10 # number of responses to generate\n",
    "starting_prompt = \"Love\"\n",
    "max_new_tokens=20\n",
    "\n",
    "!cd nanoGPT && python sample.py --start=\"$starting_prompt\" --num_samples=$num_samples --max_new_tokens=$max_new_tokens #--device=mps\n",
    "\n",
    "# Add --device=cpu if you don't have a GPU, or --device=mps if you run on Macbook"
   ]
  }
 ],
 "metadata": {
  "kernelspec": {
   "display_name": "nanogpt",
   "language": "python",
   "name": "python3"
  },
  "language_info": {
   "codemirror_mode": {
    "name": "ipython",
    "version": 3
   },
   "file_extension": ".py",
   "mimetype": "text/x-python",
   "name": "python",
   "nbconvert_exporter": "python",
   "pygments_lexer": "ipython3",
   "version": "3.9.6"
  }
 },
 "nbformat": 4,
 "nbformat_minor": 2
}
